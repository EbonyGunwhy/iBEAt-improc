{
  "nbformat": 4,
  "nbformat_minor": 0,
  "metadata": {
    "colab": {
      "provenance": []
    },
    "kernelspec": {
      "name": "python3",
      "display_name": "Python 3"
    },
    "language_info": {
      "name": "python"
    }
  },
  "cells": [
    {
      "cell_type": "markdown",
      "source": [
        "\n",
        "Mount Google Drive\n",
        "=================="
      ],
      "metadata": {
        "id": "qT2mTsLgGDaK"
      }
    },
    {
      "cell_type": "code",
      "source": [
        "from google.colab import drive\n",
        "drive.mount('/content/drive')"
      ],
      "metadata": {
        "colab": {
          "base_uri": "https://localhost:8080/"
        },
        "id": "FrMt_aaIGNHY",
        "outputId": "5feeb7ad-ae15-4273-dfda-50c7a0f55195"
      },
      "execution_count": 1,
      "outputs": [
        {
          "output_type": "stream",
          "name": "stdout",
          "text": [
            "Mounted at /content/drive\n"
          ]
        }
      ]
    },
    {
      "cell_type": "markdown",
      "source": [
        "Define paths\n",
        "============"
      ],
      "metadata": {
        "id": "ao1EmzOYGQrx"
      }
    },
    {
      "cell_type": "code",
      "source": [
        "import os\n",
        "\n",
        "# Shared drive directories\n",
        "base_dir_1 = f\"/content/drive/Shareddrives/iBEAt Build/fatwater/stage_2_trainingdata\"\n",
        "base_dir_2 = f\"/content/drive/Shareddrives/iBEAt Build/fatwater/stage_3_trainmodel\"\n",
        "\n",
        "# Define nnUNet expected directories on the shared drive\n",
        "os.environ[\"nnUNet_raw\"] = os.path.join(base_dir_1, \"nnUNet_raw\")\n",
        "os.environ[\"nnUNet_preprocessed\"] = os.path.join(base_dir_2, \"nnUNet_preprocessed\")\n",
        "os.environ[\"nnUNet_results\"] = os.path.join(base_dir_2, \"nnUNet_results\")\n",
        "\n",
        "# Create required directories if they don't exist\n",
        "os.makedirs(os.environ[\"nnUNet_raw\"], exist_ok=True)\n",
        "os.makedirs(os.environ[\"nnUNet_preprocessed\"], exist_ok=True)\n",
        "os.makedirs(os.environ[\"nnUNet_results\"], exist_ok=True)"
      ],
      "metadata": {
        "id": "RB_04MGSGaZj"
      },
      "execution_count": 2,
      "outputs": []
    },
    {
      "cell_type": "markdown",
      "source": [
        "Install nnUNet v2\n",
        "================="
      ],
      "metadata": {
        "id": "8XbNSqkCGrmv"
      }
    },
    {
      "cell_type": "code",
      "source": [
        "!pip install nnunetv2"
      ],
      "metadata": {
        "colab": {
          "base_uri": "https://localhost:8080/",
          "height": 1000
        },
        "id": "5qM1UIP5GxnS",
        "outputId": "947723d8-257d-40b2-db1c-c6777d60e7ef"
      },
      "execution_count": 3,
      "outputs": [
        {
          "output_type": "stream",
          "name": "stdout",
          "text": [
            "Requirement already satisfied: nnunetv2 in /usr/local/lib/python3.12/dist-packages (2.6.2)\n",
            "Requirement already satisfied: torch>=2.1.2 in /usr/local/lib/python3.12/dist-packages (from nnunetv2) (2.8.0+cu126)\n",
            "Requirement already satisfied: acvl-utils<0.3,>=0.2.3 in /usr/local/lib/python3.12/dist-packages (from nnunetv2) (0.2.5)\n",
            "Requirement already satisfied: dynamic-network-architectures<0.5,>=0.4.1 in /usr/local/lib/python3.12/dist-packages (from nnunetv2) (0.4.2)\n",
            "Requirement already satisfied: tqdm in /usr/local/lib/python3.12/dist-packages (from nnunetv2) (4.67.1)\n",
            "Requirement already satisfied: scipy in /usr/local/lib/python3.12/dist-packages (from nnunetv2) (1.16.1)\n",
            "Requirement already satisfied: batchgenerators>=0.25.1 in /usr/local/lib/python3.12/dist-packages (from nnunetv2) (0.25.1)\n",
            "Requirement already satisfied: numpy>=1.24 in /usr/local/lib/python3.12/dist-packages (from nnunetv2) (2.0.2)\n",
            "Requirement already satisfied: scikit-learn in /usr/local/lib/python3.12/dist-packages (from nnunetv2) (1.6.1)\n",
            "Requirement already satisfied: scikit-image>=0.19.3 in /usr/local/lib/python3.12/dist-packages (from nnunetv2) (0.25.2)\n",
            "Requirement already satisfied: SimpleITK>=2.2.1 in /usr/local/lib/python3.12/dist-packages (from nnunetv2) (2.5.2)\n",
            "Requirement already satisfied: pandas in /usr/local/lib/python3.12/dist-packages (from nnunetv2) (2.2.2)\n",
            "Requirement already satisfied: graphviz in /usr/local/lib/python3.12/dist-packages (from nnunetv2) (0.21)\n",
            "Requirement already satisfied: tifffile in /usr/local/lib/python3.12/dist-packages (from nnunetv2) (2025.6.11)\n",
            "Requirement already satisfied: requests in /usr/local/lib/python3.12/dist-packages (from nnunetv2) (2.32.4)\n",
            "Requirement already satisfied: nibabel in /usr/local/lib/python3.12/dist-packages (from nnunetv2) (5.3.2)\n",
            "Requirement already satisfied: matplotlib in /usr/local/lib/python3.12/dist-packages (from nnunetv2) (3.10.0)\n",
            "Requirement already satisfied: seaborn in /usr/local/lib/python3.12/dist-packages (from nnunetv2) (0.13.2)\n",
            "Requirement already satisfied: imagecodecs in /usr/local/lib/python3.12/dist-packages (from nnunetv2) (2025.8.2)\n",
            "Requirement already satisfied: yacs in /usr/local/lib/python3.12/dist-packages (from nnunetv2) (0.1.8)\n",
            "Requirement already satisfied: batchgeneratorsv2>=0.3.0 in /usr/local/lib/python3.12/dist-packages (from nnunetv2) (0.3.0)\n",
            "Requirement already satisfied: einops in /usr/local/lib/python3.12/dist-packages (from nnunetv2) (0.8.1)\n",
            "Requirement already satisfied: blosc2>=3.0.0b1 in /usr/local/lib/python3.12/dist-packages (from nnunetv2) (3.7.1)\n",
            "Requirement already satisfied: connected-components-3d in /usr/local/lib/python3.12/dist-packages (from acvl-utils<0.3,>=0.2.3->nnunetv2) (3.24.0)\n",
            "Requirement already satisfied: pillow>=7.1.2 in /usr/local/lib/python3.12/dist-packages (from batchgenerators>=0.25.1->nnunetv2) (11.3.0)\n",
            "Requirement already satisfied: future in /usr/local/lib/python3.12/dist-packages (from batchgenerators>=0.25.1->nnunetv2) (1.0.0)\n",
            "Requirement already satisfied: unittest2 in /usr/local/lib/python3.12/dist-packages (from batchgenerators>=0.25.1->nnunetv2) (1.1.0)\n",
            "Requirement already satisfied: threadpoolctl in /usr/local/lib/python3.12/dist-packages (from batchgenerators>=0.25.1->nnunetv2) (3.6.0)\n",
            "Requirement already satisfied: fft-conv-pytorch in /usr/local/lib/python3.12/dist-packages (from batchgeneratorsv2>=0.3.0->nnunetv2) (1.2.0)\n",
            "Requirement already satisfied: ndindex in /usr/local/lib/python3.12/dist-packages (from blosc2>=3.0.0b1->nnunetv2) (1.10.0)\n",
            "Requirement already satisfied: msgpack in /usr/local/lib/python3.12/dist-packages (from blosc2>=3.0.0b1->nnunetv2) (1.1.1)\n",
            "Requirement already satisfied: platformdirs in /usr/local/lib/python3.12/dist-packages (from blosc2>=3.0.0b1->nnunetv2) (4.3.8)\n",
            "Requirement already satisfied: numexpr in /usr/local/lib/python3.12/dist-packages (from blosc2>=3.0.0b1->nnunetv2) (2.11.0)\n",
            "Requirement already satisfied: py-cpuinfo in /usr/local/lib/python3.12/dist-packages (from blosc2>=3.0.0b1->nnunetv2) (9.0.0)\n",
            "Requirement already satisfied: timm in /usr/local/lib/python3.12/dist-packages (from dynamic-network-architectures<0.5,>=0.4.1->nnunetv2) (1.0.19)\n",
            "Requirement already satisfied: networkx>=3.0 in /usr/local/lib/python3.12/dist-packages (from scikit-image>=0.19.3->nnunetv2) (3.5)\n",
            "Requirement already satisfied: imageio!=2.35.0,>=2.33 in /usr/local/lib/python3.12/dist-packages (from scikit-image>=0.19.3->nnunetv2) (2.37.0)\n",
            "Requirement already satisfied: packaging>=21 in /usr/local/lib/python3.12/dist-packages (from scikit-image>=0.19.3->nnunetv2) (25.0)\n",
            "Requirement already satisfied: lazy-loader>=0.4 in /usr/local/lib/python3.12/dist-packages (from scikit-image>=0.19.3->nnunetv2) (0.4)\n",
            "Requirement already satisfied: filelock in /usr/local/lib/python3.12/dist-packages (from torch>=2.1.2->nnunetv2) (3.19.1)\n",
            "Requirement already satisfied: typing-extensions>=4.10.0 in /usr/local/lib/python3.12/dist-packages (from torch>=2.1.2->nnunetv2) (4.14.1)\n",
            "Requirement already satisfied: setuptools in /usr/local/lib/python3.12/dist-packages (from torch>=2.1.2->nnunetv2) (75.2.0)\n",
            "Requirement already satisfied: sympy>=1.13.3 in /usr/local/lib/python3.12/dist-packages (from torch>=2.1.2->nnunetv2) (1.13.3)\n",
            "Requirement already satisfied: jinja2 in /usr/local/lib/python3.12/dist-packages (from torch>=2.1.2->nnunetv2) (3.1.6)\n",
            "Requirement already satisfied: fsspec in /usr/local/lib/python3.12/dist-packages (from torch>=2.1.2->nnunetv2) (2025.3.0)\n",
            "Requirement already satisfied: nvidia-cuda-nvrtc-cu12==12.6.77 in /usr/local/lib/python3.12/dist-packages (from torch>=2.1.2->nnunetv2) (12.6.77)\n",
            "Requirement already satisfied: nvidia-cuda-runtime-cu12==12.6.77 in /usr/local/lib/python3.12/dist-packages (from torch>=2.1.2->nnunetv2) (12.6.77)\n",
            "Requirement already satisfied: nvidia-cuda-cupti-cu12==12.6.80 in /usr/local/lib/python3.12/dist-packages (from torch>=2.1.2->nnunetv2) (12.6.80)\n",
            "Requirement already satisfied: nvidia-cudnn-cu12==9.10.2.21 in /usr/local/lib/python3.12/dist-packages (from torch>=2.1.2->nnunetv2) (9.10.2.21)\n",
            "Requirement already satisfied: nvidia-cublas-cu12==12.6.4.1 in /usr/local/lib/python3.12/dist-packages (from torch>=2.1.2->nnunetv2) (12.6.4.1)\n",
            "Requirement already satisfied: nvidia-cufft-cu12==11.3.0.4 in /usr/local/lib/python3.12/dist-packages (from torch>=2.1.2->nnunetv2) (11.3.0.4)\n",
            "Requirement already satisfied: nvidia-curand-cu12==10.3.7.77 in /usr/local/lib/python3.12/dist-packages (from torch>=2.1.2->nnunetv2) (10.3.7.77)\n",
            "Requirement already satisfied: nvidia-cusolver-cu12==11.7.1.2 in /usr/local/lib/python3.12/dist-packages (from torch>=2.1.2->nnunetv2) (11.7.1.2)\n",
            "Requirement already satisfied: nvidia-cusparse-cu12==12.5.4.2 in /usr/local/lib/python3.12/dist-packages (from torch>=2.1.2->nnunetv2) (12.5.4.2)\n",
            "Requirement already satisfied: nvidia-cusparselt-cu12==0.7.1 in /usr/local/lib/python3.12/dist-packages (from torch>=2.1.2->nnunetv2) (0.7.1)\n",
            "Requirement already satisfied: nvidia-nccl-cu12==2.27.3 in /usr/local/lib/python3.12/dist-packages (from torch>=2.1.2->nnunetv2) (2.27.3)\n",
            "Requirement already satisfied: nvidia-nvtx-cu12==12.6.77 in /usr/local/lib/python3.12/dist-packages (from torch>=2.1.2->nnunetv2) (12.6.77)\n",
            "Requirement already satisfied: nvidia-nvjitlink-cu12==12.6.85 in /usr/local/lib/python3.12/dist-packages (from torch>=2.1.2->nnunetv2) (12.6.85)\n",
            "Requirement already satisfied: nvidia-cufile-cu12==1.11.1.6 in /usr/local/lib/python3.12/dist-packages (from torch>=2.1.2->nnunetv2) (1.11.1.6)\n",
            "Requirement already satisfied: triton==3.4.0 in /usr/local/lib/python3.12/dist-packages (from torch>=2.1.2->nnunetv2) (3.4.0)\n",
            "Requirement already satisfied: contourpy>=1.0.1 in /usr/local/lib/python3.12/dist-packages (from matplotlib->nnunetv2) (1.3.3)\n",
            "Requirement already satisfied: cycler>=0.10 in /usr/local/lib/python3.12/dist-packages (from matplotlib->nnunetv2) (0.12.1)\n",
            "Requirement already satisfied: fonttools>=4.22.0 in /usr/local/lib/python3.12/dist-packages (from matplotlib->nnunetv2) (4.59.1)\n",
            "Requirement already satisfied: kiwisolver>=1.3.1 in /usr/local/lib/python3.12/dist-packages (from matplotlib->nnunetv2) (1.4.9)\n",
            "Requirement already satisfied: pyparsing>=2.3.1 in /usr/local/lib/python3.12/dist-packages (from matplotlib->nnunetv2) (3.2.3)\n",
            "Requirement already satisfied: python-dateutil>=2.7 in /usr/local/lib/python3.12/dist-packages (from matplotlib->nnunetv2) (2.9.0.post0)\n",
            "Requirement already satisfied: pytz>=2020.1 in /usr/local/lib/python3.12/dist-packages (from pandas->nnunetv2) (2025.2)\n",
            "Requirement already satisfied: tzdata>=2022.7 in /usr/local/lib/python3.12/dist-packages (from pandas->nnunetv2) (2025.2)\n",
            "Requirement already satisfied: charset_normalizer<4,>=2 in /usr/local/lib/python3.12/dist-packages (from requests->nnunetv2) (3.4.3)\n",
            "Requirement already satisfied: idna<4,>=2.5 in /usr/local/lib/python3.12/dist-packages (from requests->nnunetv2) (3.10)\n",
            "Requirement already satisfied: urllib3<3,>=1.21.1 in /usr/local/lib/python3.12/dist-packages (from requests->nnunetv2) (2.5.0)\n",
            "Requirement already satisfied: certifi>=2017.4.17 in /usr/local/lib/python3.12/dist-packages (from requests->nnunetv2) (2025.8.3)\n",
            "Requirement already satisfied: joblib>=1.2.0 in /usr/local/lib/python3.12/dist-packages (from scikit-learn->nnunetv2) (1.5.1)\n",
            "Requirement already satisfied: PyYAML in /usr/local/lib/python3.12/dist-packages (from yacs->nnunetv2) (6.0.2)\n",
            "Requirement already satisfied: six>=1.5 in /usr/local/lib/python3.12/dist-packages (from python-dateutil>=2.7->matplotlib->nnunetv2) (1.17.0)\n",
            "Requirement already satisfied: mpmath<1.4,>=1.1.0 in /usr/local/lib/python3.12/dist-packages (from sympy>=1.13.3->torch>=2.1.2->nnunetv2) (1.3.0)\n",
            "Requirement already satisfied: MarkupSafe>=2.0 in /usr/local/lib/python3.12/dist-packages (from jinja2->torch>=2.1.2->nnunetv2) (3.0.2)\n",
            "Requirement already satisfied: torchvision in /usr/local/lib/python3.12/dist-packages (from timm->dynamic-network-architectures<0.5,>=0.4.1->nnunetv2) (0.23.0+cu126)\n",
            "Requirement already satisfied: huggingface_hub in /usr/local/lib/python3.12/dist-packages (from timm->dynamic-network-architectures<0.5,>=0.4.1->nnunetv2) (0.34.4)\n",
            "Requirement already satisfied: safetensors in /usr/local/lib/python3.12/dist-packages (from timm->dynamic-network-architectures<0.5,>=0.4.1->nnunetv2) (0.6.2)\n",
            "Collecting argparse (from unittest2->batchgenerators>=0.25.1->nnunetv2)\n",
            "  Using cached argparse-1.4.0-py2.py3-none-any.whl.metadata (2.8 kB)\n",
            "Requirement already satisfied: traceback2 in /usr/local/lib/python3.12/dist-packages (from unittest2->batchgenerators>=0.25.1->nnunetv2) (1.4.0)\n",
            "Requirement already satisfied: hf-xet<2.0.0,>=1.1.3 in /usr/local/lib/python3.12/dist-packages (from huggingface_hub->timm->dynamic-network-architectures<0.5,>=0.4.1->nnunetv2) (1.1.7)\n",
            "Requirement already satisfied: linecache2 in /usr/local/lib/python3.12/dist-packages (from traceback2->unittest2->batchgenerators>=0.25.1->nnunetv2) (1.0.0)\n",
            "Using cached argparse-1.4.0-py2.py3-none-any.whl (23 kB)\n",
            "Installing collected packages: argparse\n",
            "Successfully installed argparse-1.4.0\n"
          ]
        },
        {
          "output_type": "display_data",
          "data": {
            "application/vnd.colab-display-data+json": {
              "pip_warning": {
                "packages": [
                  "argparse"
                ]
              },
              "id": "9a44301180b24c8daf489527e100722c"
            }
          },
          "metadata": {}
        }
      ]
    },
    {
      "cell_type": "markdown",
      "source": [
        "Preprocess Dataset\n",
        "=================="
      ],
      "metadata": {
        "id": "xUzGepkSG0Td"
      }
    },
    {
      "cell_type": "code",
      "source": [
        "!nnUNetv2_plan_and_preprocess -d 011 -c 3d_fullres --verify_dataset_integrity"
      ],
      "metadata": {
        "colab": {
          "base_uri": "https://localhost:8080/"
        },
        "id": "Xg6KNqh0G-2z",
        "outputId": "68347496-587e-463f-deff-acfe41419ff2"
      },
      "execution_count": null,
      "outputs": [
        {
          "output_type": "stream",
          "name": "stdout",
          "text": [
            "Fingerprint extraction...\n",
            "Dataset011_iBEAtFatWater\n",
            "Using <class 'nnunetv2.imageio.simpleitk_reader_writer.SimpleITKIO'> as reader/writer\n"
          ]
        }
      ]
    },
    {
      "cell_type": "markdown",
      "source": [
        "Train Example\n",
        "============="
      ],
      "metadata": {
        "id": "xTyCp6_BHBNy"
      }
    },
    {
      "cell_type": "code",
      "source": [
        "os.environ['nnUNet_n_proc_DA'] = '2'\n",
        "\n",
        "for fold in range(5):\n",
        "    !nnUNetv2_train 011 3d_fullres $fold --npz"
      ],
      "metadata": {
        "id": "c4-_hF_CHKXy"
      },
      "execution_count": null,
      "outputs": []
    },
    {
      "cell_type": "markdown",
      "source": [
        "Find Best Config\n",
        "================"
      ],
      "metadata": {
        "id": "J26aCf8YHQ1g"
      }
    },
    {
      "cell_type": "code",
      "source": [
        "!nnUNetv2_find_best_configuration 011 3d_fullres"
      ],
      "metadata": {
        "id": "hwIztbucHVKp"
      },
      "execution_count": null,
      "outputs": []
    }
  ]
}